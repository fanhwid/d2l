{
 "cells": [
  {
   "cell_type": "code",
   "execution_count": 159,
   "metadata": {},
   "outputs": [],
   "source": [
    "import numpy as np\n",
    "import torch\n",
    "from torch.utils import data\n",
    "from d2l import torch as d2l\n",
    "\n",
    "true_w = torch.tensor([2, -3.4, 5, -7])\n",
    "true_b = 4.2"
   ]
  },
  {
   "cell_type": "code",
   "execution_count": 160,
   "metadata": {},
   "outputs": [],
   "source": [
    "features, labels = d2l.synthetic_data(true_w, true_b, 1000)"
   ]
  },
  {
   "cell_type": "code",
   "execution_count": 161,
   "metadata": {},
   "outputs": [
    {
     "data": {
      "text/plain": [
       "[tensor([[-1.0037, -0.2335, -0.4913, -1.1415],\n",
       "         [-0.2238, -0.3379,  0.5069,  0.0564],\n",
       "         [ 0.7531, -0.8473, -0.4732, -0.0910],\n",
       "         [ 2.4422, -1.1849,  0.7808, -1.2581],\n",
       "         [ 0.0219, -0.1018, -0.3222, -0.2013],\n",
       "         [ 0.0100,  0.9313,  0.0590,  0.7313],\n",
       "         [-1.3284,  0.1558, -0.4146, -1.1334],\n",
       "         [-1.5380, -0.0815,  2.0094, -0.0568],\n",
       "         [-0.6064, -1.0067,  1.7075,  0.1663],\n",
       "         [-0.4179, -0.5586, -0.9348,  2.0822]]),\n",
       " tensor([[  8.5162],\n",
       "         [  7.0362],\n",
       "         [  6.8711],\n",
       "         [ 25.8200],\n",
       "         [  4.3850],\n",
       "         [ -3.7744],\n",
       "         [  6.8823],\n",
       "         [ 11.8471],\n",
       "         [ 13.7792],\n",
       "         [-13.9825]])]"
      ]
     },
     "execution_count": 161,
     "metadata": {},
     "output_type": "execute_result"
    }
   ],
   "source": [
    "def load_array(data_arrays, batch_size, is_train=True):\n",
    "    dataset = data.TensorDataset(*data_arrays)\n",
    "    return data.DataLoader(dataset, batch_size, is_train)\n",
    "batch_size = 10\n",
    "data_iter = load_array((features, labels), batch_size)\n",
    "\n",
    "next(iter(data_iter))"
   ]
  },
  {
   "cell_type": "code",
   "execution_count": 162,
   "metadata": {},
   "outputs": [
    {
     "data": {
      "text/plain": [
       "tensor([0.])"
      ]
     },
     "execution_count": 162,
     "metadata": {},
     "output_type": "execute_result"
    }
   ],
   "source": [
    "from torch import nn\n",
    "net = nn.Sequential(nn.Linear(4, 1))\n",
    "net[0].weight.data.normal_(0, 0.1)\n",
    "net[0].bias.data.fill_(0)"
   ]
  },
  {
   "cell_type": "code",
   "execution_count": 163,
   "metadata": {},
   "outputs": [],
   "source": [
    "loss = nn.MSELoss()"
   ]
  },
  {
   "cell_type": "code",
   "execution_count": 164,
   "metadata": {},
   "outputs": [],
   "source": [
    "trainer = torch.optim.SGD(net.parameters(), lr = 0.01)"
   ]
  },
  {
   "cell_type": "code",
   "execution_count": 165,
   "metadata": {},
   "outputs": [
    {
     "name": "stdout",
     "output_type": "stream",
     "text": [
      "epoch 1, loss 2.177675\n",
      "epoch 2, loss 0.051729\n",
      "epoch 3, loss 0.001411\n",
      "epoch 4, loss 0.000139\n",
      "epoch 5, loss 0.000103\n",
      "epoch 6, loss 0.000102\n",
      "epoch 7, loss 0.000102\n",
      "epoch 8, loss 0.000102\n",
      "epoch 9, loss 0.000102\n",
      "epoch 10, loss 0.000102\n"
     ]
    }
   ],
   "source": [
    "num_epochs = 10\n",
    "for epoch in range(num_epochs):\n",
    "    for X, y in data_iter:\n",
    "        l = loss(net(X), y)\n",
    "        trainer.zero_grad()\n",
    "        l.backward()\n",
    "        trainer.step()\n",
    "    l = loss(net(features), labels)\n",
    "    print(f'epoch {epoch + 1}, loss {l:f}')"
   ]
  },
  {
   "cell_type": "code",
   "execution_count": null,
   "metadata": {},
   "outputs": [],
   "source": []
  }
 ],
 "metadata": {
  "kernelspec": {
   "display_name": "base",
   "language": "python",
   "name": "python3"
  },
  "language_info": {
   "codemirror_mode": {
    "name": "ipython",
    "version": 3
   },
   "file_extension": ".py",
   "mimetype": "text/x-python",
   "name": "python",
   "nbconvert_exporter": "python",
   "pygments_lexer": "ipython3",
   "version": "3.8.13"
  },
  "orig_nbformat": 4
 },
 "nbformat": 4,
 "nbformat_minor": 2
}
