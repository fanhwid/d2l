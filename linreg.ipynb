{
 "cells": [
  {
   "cell_type": "code",
   "execution_count": 1,
   "metadata": {},
   "outputs": [],
   "source": [
    "import torch\n",
    "import random"
   ]
  },
  {
   "cell_type": "code",
   "execution_count": 2,
   "metadata": {},
   "outputs": [],
   "source": [
    "# 生成数据，y = Xw + b\n",
    "def synthetic_data(w, b, num_examples):\n",
    "    X = torch.normal(5, 3, size=(num_examples, len(w)))\n",
    "    y = torch.matmul(X, w) + b\n",
    "    y += torch.normal(0, 0.1, y.shape)\n",
    "    return X, y.reshape((-1, 1))"
   ]
  },
  {
   "cell_type": "code",
   "execution_count": 3,
   "metadata": {},
   "outputs": [],
   "source": [
    "true_w = torch.tensor([-4.2, 3.7])\n",
    "true_b = 3.4\n",
    "num_examples = 1000\n",
    "features, labels = synthetic_data(true_w, true_b, num_examples)"
   ]
  },
  {
   "cell_type": "code",
   "execution_count": 4,
   "metadata": {},
   "outputs": [
    {
     "name": "stdout",
     "output_type": "stream",
     "text": [
      "features: tensor([7.9101, 4.1629]) \n",
      "labels: tensor([-14.3429])\n"
     ]
    }
   ],
   "source": [
    "print('features:', features[0], '\\nlabels:', labels[0])"
   ]
  },
  {
   "cell_type": "code",
   "execution_count": 5,
   "metadata": {},
   "outputs": [],
   "source": [
    "# 定义batch size的数据迭代器\n",
    "def data_iter(batch_size, features, labels):\n",
    "    num_examples = len(features)\n",
    "    indices = list(range(num_examples))\n",
    "    random.shuffle(indices)\n",
    "    for i in range(0, num_examples, batch_size):\n",
    "        batch_indices = indices[i: min(i + batch_size, num_examples)]\n",
    "        yield features[batch_indices], labels[batch_indices]\n"
   ]
  },
  {
   "cell_type": "code",
   "execution_count": 6,
   "metadata": {},
   "outputs": [],
   "source": [
    "# 定义模型\n",
    "def linreg(X, w, b):\n",
    "    return torch.matmul(X, w) + b"
   ]
  },
  {
   "cell_type": "code",
   "execution_count": 7,
   "metadata": {},
   "outputs": [],
   "source": [
    "# 定义损失函数\n",
    "def squared_loss(y_hat, y):\n",
    "    return (y_hat - y.reshape(y_hat.shape)) ** 2 / 2"
   ]
  },
  {
   "cell_type": "code",
   "execution_count": 8,
   "metadata": {},
   "outputs": [],
   "source": [
    "# 定义优化算法\n",
    "def sgd(params, lr, batch_size):\n",
    "    with torch.no_grad():\n",
    "        for param in params:\n",
    "            param -= lr * param.grad / batch_size\n",
    "            param.grad.zero_()"
   ]
  },
  {
   "cell_type": "code",
   "execution_count": 13,
   "metadata": {},
   "outputs": [],
   "source": [
    "# 初始化训练参数\n",
    "w = torch.normal(3, 2, (2, 1), requires_grad=True)\n",
    "b = torch.ones(1, requires_grad=True)\n",
    "lr = 0.03\n",
    "batch_size = 10\n",
    "num_epochs = 30\n",
    "net = linreg\n",
    "loss = squared_loss"
   ]
  },
  {
   "cell_type": "code",
   "execution_count": 14,
   "metadata": {},
   "outputs": [
    {
     "name": "stdout",
     "output_type": "stream",
     "text": [
      "epoch 1, loss 0.234301\n",
      "epoch 2, loss 0.122382\n",
      "epoch 3, loss 0.072943\n",
      "epoch 4, loss 0.042907\n",
      "epoch 5, loss 0.011952\n",
      "epoch 6, loss 0.051420\n",
      "epoch 7, loss 0.069662\n",
      "epoch 8, loss 0.044228\n",
      "epoch 9, loss 0.007932\n",
      "epoch 10, loss 0.008947\n",
      "epoch 11, loss 0.005748\n",
      "epoch 12, loss 0.006237\n",
      "epoch 13, loss 0.005816\n",
      "epoch 14, loss 0.021853\n",
      "epoch 15, loss 0.007122\n",
      "epoch 16, loss 0.005630\n",
      "epoch 17, loss 0.005979\n",
      "epoch 18, loss 0.012111\n",
      "epoch 19, loss 0.005205\n",
      "epoch 20, loss 0.013459\n",
      "epoch 21, loss 0.007901\n",
      "epoch 22, loss 0.026601\n",
      "epoch 23, loss 0.005268\n",
      "epoch 24, loss 0.014419\n",
      "epoch 25, loss 0.005272\n",
      "epoch 26, loss 0.005473\n",
      "epoch 27, loss 0.009716\n",
      "epoch 28, loss 0.005331\n",
      "epoch 29, loss 0.013143\n",
      "epoch 30, loss 0.005380\n"
     ]
    }
   ],
   "source": [
    "for epoch in range(num_epochs):\n",
    "    for X, y in data_iter(batch_size, features, labels):\n",
    "        l = loss(net(X, w, b), y)\n",
    "        l.sum().backward()\n",
    "        sgd([w, b], lr, batch_size)\n",
    "    with torch.no_grad():\n",
    "        train_l = loss(net(features, w, b), labels)\n",
    "        print(f'epoch {epoch + 1}, loss {float(train_l.mean()):f}')"
   ]
  },
  {
   "cell_type": "code",
   "execution_count": 15,
   "metadata": {},
   "outputs": [
    {
     "name": "stdout",
     "output_type": "stream",
     "text": [
      "w的估计误差：tensor([ 0.0054, -0.0046], grad_fn=<SubBackward0>)\n",
      "b的估计误差：tensor([0.0023], grad_fn=<RsubBackward1>)\n"
     ]
    }
   ],
   "source": [
    "print(f'w的估计误差：{true_w - w.reshape(true_w.shape)}')\n",
    "print(f'b的估计误差：{true_b - b}')"
   ]
  },
  {
   "cell_type": "code",
   "execution_count": null,
   "metadata": {},
   "outputs": [],
   "source": []
  }
 ],
 "metadata": {
  "kernelspec": {
   "display_name": "Python 3.8.13 ('base')",
   "language": "python",
   "name": "python3"
  },
  "language_info": {
   "codemirror_mode": {
    "name": "ipython",
    "version": 3
   },
   "file_extension": ".py",
   "mimetype": "text/x-python",
   "name": "python",
   "nbconvert_exporter": "python",
   "pygments_lexer": "ipython3",
   "version": "3.8.13"
  },
  "orig_nbformat": 4,
  "vscode": {
   "interpreter": {
    "hash": "f08dc0044bb24bd1e3fbe7efd93f7bf7e27beb64048277758b64736c76cdf948"
   }
  }
 },
 "nbformat": 4,
 "nbformat_minor": 2
}
